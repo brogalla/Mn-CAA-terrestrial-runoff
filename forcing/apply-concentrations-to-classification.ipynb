{
 "cells": [
  {
   "cell_type": "markdown",
   "metadata": {},
   "source": [
    "# Apply trace metal concentrations to river classification"
   ]
  },
  {
   "cell_type": "code",
   "execution_count": 1,
   "metadata": {},
   "outputs": [],
   "source": [
    "import numpy as np\n",
    "import netCDF4 as nc\n",
    "import xarray as xr\n",
    "\n",
    "%matplotlib inline"
   ]
  },
  {
   "cell_type": "markdown",
   "metadata": {},
   "source": [
    "## Runoff categories:\n",
    "\n",
    "1. Glaciers\n",
    "2. Continental\n",
    "3. Central"
   ]
  },
  {
   "cell_type": "code",
   "execution_count": 2,
   "metadata": {},
   "outputs": [],
   "source": [
    "def create_forcing_fields(class_file, SPM_factor=0.0, multiply_glacial=1.0, multiply_continental=1.0):\n",
    "    \n",
    "    rclass = nc.Dataset(f'/ocean/brogalla/GEOTRACES/data/{class_file}','r')\n",
    "    river_class = np.array(rclass.variables['rclass'])\n",
    "    \n",
    "    SPM_rivers = np.zeros(river_class.shape)\n",
    "    dMn_rivers = np.zeros(river_class.shape)\n",
    "    \n",
    "    dMn_rivers[river_class==1.0] = 164e-9*multiply_glacial       # glaciers\n",
    "    dMn_rivers[river_class==2.0] = 29.8e-9*multiply_continental  # continental\n",
    "    dMn_rivers[river_class==3.0] = 2.2e-9  # other\n",
    "    dMn_rivers[river_class==4.0] = 2.2e-9   \n",
    "    \n",
    "    SPM_rivers[river_class==1.0] = SPM_factor*261e-6*multiply_glacial        # glaciers\n",
    "    SPM_rivers[river_class==2.0] = SPM_factor*1.196e-5*multiply_continental  # continental\n",
    "    SPM_rivers[river_class==3.0] = SPM_factor*4.08e-6   # other\n",
    "    SPM_rivers[river_class==4.0] = SPM_factor*4.08e-6  \n",
    "    \n",
    "    return SPM_rivers, dMn_rivers"
   ]
  },
  {
   "cell_type": "code",
   "execution_count": 3,
   "metadata": {},
   "outputs": [],
   "source": [
    "def save_file(SPM_rivers, dMn_rivers, name='Mn-river-base'):\n",
    "    file_write = xr.Dataset(\n",
    "        {'spm_rivers': ((\"y\",\"x\"), SPM_rivers), \n",
    "         'dmn_rivers': ((\"y\",\"x\"), dMn_rivers)}, \n",
    "        coords = {\n",
    "            \"y\": np.zeros(2400),\n",
    "            \"x\": np.zeros(1632),\n",
    "        },\n",
    "    )\n",
    "\n",
    "    file_write.to_netcdf(f'/ocean/brogalla/GEOTRACES/data/paper2-forcing-files/{name}.nc')\n",
    "    \n",
    "    return"
   ]
  },
  {
   "cell_type": "markdown",
   "metadata": {},
   "source": [
    "### Apply trace metal concentrations"
   ]
  },
  {
   "cell_type": "code",
   "execution_count": 4,
   "metadata": {},
   "outputs": [],
   "source": [
    "base_SPM       , base_dMn        = create_forcing_fields('river_class-202005.nc', SPM_factor=0)\n",
    "glacial_SPM    , glacial_dMn     = create_forcing_fields('river_class-202005.nc', SPM_factor=0, multiply_glacial=1.5)\n",
    "continental_SPM, continental_dMn = create_forcing_fields('river_class-202005.nc', SPM_factor=0, multiply_continental=1.5)"
   ]
  },
  {
   "cell_type": "markdown",
   "metadata": {},
   "source": [
    "### Write to NetCDF file"
   ]
  },
  {
   "cell_type": "code",
   "execution_count": 5,
   "metadata": {},
   "outputs": [],
   "source": [
    "save_file(base_SPM       , base_dMn       , name='river-forcing-base-202112')\n",
    "save_file(glacial_SPM    , glacial_dMn    , name='river-forcing-glacial-202112')\n",
    "save_file(continental_SPM, continental_dMn, name='river-forcing-continental-202112')"
   ]
  }
 ],
 "metadata": {
  "kernelspec": {
   "display_name": "Python 3",
   "language": "python",
   "name": "python3"
  },
  "language_info": {
   "codemirror_mode": {
    "name": "ipython",
    "version": 3
   },
   "file_extension": ".py",
   "mimetype": "text/x-python",
   "name": "python",
   "nbconvert_exporter": "python",
   "pygments_lexer": "ipython3",
   "version": "3.6.11"
  }
 },
 "nbformat": 4,
 "nbformat_minor": 4
}
